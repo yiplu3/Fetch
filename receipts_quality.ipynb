{
 "cells": [
  {
   "cell_type": "markdown",
   "id": "3060e4c2",
   "metadata": {},
   "source": [
    "### Import library and dataset"
   ]
  },
  {
   "cell_type": "code",
   "execution_count": 1,
   "metadata": {},
   "outputs": [],
   "source": [
    "import json\n",
    "import pandas as pd\n",
    "from datetime import datetime\n",
    "import numpy as np\n",
    "\n",
    "file = open('receipts.json', 'r',encoding ='utf-8')\n",
    "\n",
    "receipts = []\n",
    "for line in file.readlines():\n",
    "    lines = json.loads(line)\n",
    "    receipts.append(lines)\n"
   ]
  },
  {
   "cell_type": "markdown",
   "metadata": {},
   "source": [
    "### Prepocessing the dataset"
   ]
  },
  {
   "cell_type": "code",
   "execution_count": 2,
   "metadata": {
    "scrolled": true
   },
   "outputs": [
    {
     "data": {
      "text/html": [
       "<div>\n",
       "<style scoped>\n",
       "    .dataframe tbody tr th:only-of-type {\n",
       "        vertical-align: middle;\n",
       "    }\n",
       "\n",
       "    .dataframe tbody tr th {\n",
       "        vertical-align: top;\n",
       "    }\n",
       "\n",
       "    .dataframe thead th {\n",
       "        text-align: right;\n",
       "    }\n",
       "</style>\n",
       "<table border=\"1\" class=\"dataframe\">\n",
       "  <thead>\n",
       "    <tr style=\"text-align: right;\">\n",
       "      <th></th>\n",
       "      <th>_id</th>\n",
       "      <th>bonusPointsEarned</th>\n",
       "      <th>bonusPointsEarnedReason</th>\n",
       "      <th>createDate</th>\n",
       "      <th>dateScanned</th>\n",
       "      <th>finishedDate</th>\n",
       "      <th>modifyDate</th>\n",
       "      <th>pointsAwardedDate</th>\n",
       "      <th>pointsEarned</th>\n",
       "      <th>purchaseDate</th>\n",
       "      <th>purchasedItemCount</th>\n",
       "      <th>rewardsReceiptItemList</th>\n",
       "      <th>rewardsReceiptStatus</th>\n",
       "      <th>totalSpent</th>\n",
       "      <th>userId</th>\n",
       "    </tr>\n",
       "  </thead>\n",
       "  <tbody>\n",
       "    <tr>\n",
       "      <th>0</th>\n",
       "      <td>5ff1e1eb0a720f0523000575</td>\n",
       "      <td>500.0</td>\n",
       "      <td>Receipt number 2 completed, bonus point schedu...</td>\n",
       "      <td>2021-01-03 10:25:31.000</td>\n",
       "      <td>2021-01-03 10:25:31.000</td>\n",
       "      <td>2021-01-03 10:25:31</td>\n",
       "      <td>2021-01-03 10:25:36.000</td>\n",
       "      <td>2021-01-03 10:25:31</td>\n",
       "      <td>500.0</td>\n",
       "      <td>2021-01-02 19:00:00</td>\n",
       "      <td>5.0</td>\n",
       "      <td>[{'barcode': '4011', 'description': 'ITEM NOT ...</td>\n",
       "      <td>FINISHED</td>\n",
       "      <td>26.00</td>\n",
       "      <td>5ff1e1eacfcf6c399c274ae6</td>\n",
       "    </tr>\n",
       "    <tr>\n",
       "      <th>1</th>\n",
       "      <td>5ff1e1bb0a720f052300056b</td>\n",
       "      <td>150.0</td>\n",
       "      <td>Receipt number 5 completed, bonus point schedu...</td>\n",
       "      <td>2021-01-03 10:24:43.000</td>\n",
       "      <td>2021-01-03 10:24:43.000</td>\n",
       "      <td>2021-01-03 10:24:43</td>\n",
       "      <td>2021-01-03 10:24:48.000</td>\n",
       "      <td>2021-01-03 10:24:43</td>\n",
       "      <td>150.0</td>\n",
       "      <td>2021-01-02 10:24:43</td>\n",
       "      <td>2.0</td>\n",
       "      <td>[{'barcode': '4011', 'description': 'ITEM NOT ...</td>\n",
       "      <td>FINISHED</td>\n",
       "      <td>11.00</td>\n",
       "      <td>5ff1e194b6a9d73a3a9f1052</td>\n",
       "    </tr>\n",
       "    <tr>\n",
       "      <th>2</th>\n",
       "      <td>5ff1e1f10a720f052300057a</td>\n",
       "      <td>5.0</td>\n",
       "      <td>All-receipts receipt bonus</td>\n",
       "      <td>2021-01-03 10:25:37.000</td>\n",
       "      <td>2021-01-03 10:25:37.000</td>\n",
       "      <td>NaT</td>\n",
       "      <td>2021-01-03 10:25:42.000</td>\n",
       "      <td>NaT</td>\n",
       "      <td>5</td>\n",
       "      <td>2021-01-02 19:00:00</td>\n",
       "      <td>1.0</td>\n",
       "      <td>[{'needsFetchReview': False, 'partnerItemId': ...</td>\n",
       "      <td>REJECTED</td>\n",
       "      <td>10.00</td>\n",
       "      <td>5ff1e1f1cfcf6c399c274b0b</td>\n",
       "    </tr>\n",
       "    <tr>\n",
       "      <th>3</th>\n",
       "      <td>5ff1e1ee0a7214ada100056f</td>\n",
       "      <td>5.0</td>\n",
       "      <td>All-receipts receipt bonus</td>\n",
       "      <td>2021-01-03 10:25:34.000</td>\n",
       "      <td>2021-01-03 10:25:34.000</td>\n",
       "      <td>2021-01-03 10:25:34</td>\n",
       "      <td>2021-01-03 10:25:39.000</td>\n",
       "      <td>2021-01-03 10:25:34</td>\n",
       "      <td>5.0</td>\n",
       "      <td>2021-01-02 19:00:00</td>\n",
       "      <td>4.0</td>\n",
       "      <td>[{'barcode': '4011', 'description': 'ITEM NOT ...</td>\n",
       "      <td>FINISHED</td>\n",
       "      <td>28.00</td>\n",
       "      <td>5ff1e1eacfcf6c399c274ae6</td>\n",
       "    </tr>\n",
       "    <tr>\n",
       "      <th>4</th>\n",
       "      <td>5ff1e1d20a7214ada1000561</td>\n",
       "      <td>5.0</td>\n",
       "      <td>All-receipts receipt bonus</td>\n",
       "      <td>2021-01-03 10:25:06.000</td>\n",
       "      <td>2021-01-03 10:25:06.000</td>\n",
       "      <td>2021-01-03 10:25:11</td>\n",
       "      <td>2021-01-03 10:25:11.000</td>\n",
       "      <td>2021-01-03 10:25:06</td>\n",
       "      <td>5.0</td>\n",
       "      <td>2021-01-02 10:25:06</td>\n",
       "      <td>2.0</td>\n",
       "      <td>[{'barcode': '4011', 'description': 'ITEM NOT ...</td>\n",
       "      <td>FINISHED</td>\n",
       "      <td>1.00</td>\n",
       "      <td>5ff1e194b6a9d73a3a9f1052</td>\n",
       "    </tr>\n",
       "    <tr>\n",
       "      <th>...</th>\n",
       "      <td>...</td>\n",
       "      <td>...</td>\n",
       "      <td>...</td>\n",
       "      <td>...</td>\n",
       "      <td>...</td>\n",
       "      <td>...</td>\n",
       "      <td>...</td>\n",
       "      <td>...</td>\n",
       "      <td>...</td>\n",
       "      <td>...</td>\n",
       "      <td>...</td>\n",
       "      <td>...</td>\n",
       "      <td>...</td>\n",
       "      <td>...</td>\n",
       "      <td>...</td>\n",
       "    </tr>\n",
       "    <tr>\n",
       "      <th>1114</th>\n",
       "      <td>603cc0630a720fde100003e6</td>\n",
       "      <td>25.0</td>\n",
       "      <td>COMPLETE_NONPARTNER_RECEIPT</td>\n",
       "      <td>2021-03-01 05:22:27.000</td>\n",
       "      <td>2021-03-01 05:22:27.000</td>\n",
       "      <td>NaT</td>\n",
       "      <td>2021-03-01 05:22:28.000</td>\n",
       "      <td>NaT</td>\n",
       "      <td>25.0</td>\n",
       "      <td>2020-08-16 20:00:00</td>\n",
       "      <td>2.0</td>\n",
       "      <td>[{'barcode': 'B076FJ92M4', 'description': 'mue...</td>\n",
       "      <td>REJECTED</td>\n",
       "      <td>34.96</td>\n",
       "      <td>5fc961c3b8cfca11a077dd33</td>\n",
       "    </tr>\n",
       "    <tr>\n",
       "      <th>1115</th>\n",
       "      <td>603d0b710a720fde1000042a</td>\n",
       "      <td>NaN</td>\n",
       "      <td>NaN</td>\n",
       "      <td>2021-03-01 10:42:41.873</td>\n",
       "      <td>2021-03-01 10:42:41.873</td>\n",
       "      <td>NaT</td>\n",
       "      <td>2021-03-01 10:42:41.873</td>\n",
       "      <td>NaT</td>\n",
       "      <td>NaN</td>\n",
       "      <td>NaT</td>\n",
       "      <td>NaN</td>\n",
       "      <td>NaN</td>\n",
       "      <td>SUBMITTED</td>\n",
       "      <td>NaN</td>\n",
       "      <td>5fc961c3b8cfca11a077dd33</td>\n",
       "    </tr>\n",
       "    <tr>\n",
       "      <th>1116</th>\n",
       "      <td>603cf5290a720fde10000413</td>\n",
       "      <td>NaN</td>\n",
       "      <td>NaN</td>\n",
       "      <td>2021-03-01 09:07:37.664</td>\n",
       "      <td>2021-03-01 09:07:37.664</td>\n",
       "      <td>NaT</td>\n",
       "      <td>2021-03-01 09:07:37.664</td>\n",
       "      <td>NaT</td>\n",
       "      <td>NaN</td>\n",
       "      <td>NaT</td>\n",
       "      <td>NaN</td>\n",
       "      <td>NaN</td>\n",
       "      <td>SUBMITTED</td>\n",
       "      <td>NaN</td>\n",
       "      <td>5fc961c3b8cfca11a077dd33</td>\n",
       "    </tr>\n",
       "    <tr>\n",
       "      <th>1117</th>\n",
       "      <td>603ce7100a7217c72c000405</td>\n",
       "      <td>25.0</td>\n",
       "      <td>COMPLETE_NONPARTNER_RECEIPT</td>\n",
       "      <td>2021-03-01 08:07:28.000</td>\n",
       "      <td>2021-03-01 08:07:28.000</td>\n",
       "      <td>NaT</td>\n",
       "      <td>2021-03-01 08:07:29.000</td>\n",
       "      <td>NaT</td>\n",
       "      <td>25.0</td>\n",
       "      <td>2020-08-16 20:00:00</td>\n",
       "      <td>2.0</td>\n",
       "      <td>[{'barcode': 'B076FJ92M4', 'description': 'mue...</td>\n",
       "      <td>REJECTED</td>\n",
       "      <td>34.96</td>\n",
       "      <td>5fc961c3b8cfca11a077dd33</td>\n",
       "    </tr>\n",
       "    <tr>\n",
       "      <th>1118</th>\n",
       "      <td>603c4fea0a7217c72c000389</td>\n",
       "      <td>NaN</td>\n",
       "      <td>NaN</td>\n",
       "      <td>2021-02-28 21:22:34.962</td>\n",
       "      <td>2021-02-28 21:22:34.962</td>\n",
       "      <td>NaT</td>\n",
       "      <td>2021-02-28 21:22:34.962</td>\n",
       "      <td>NaT</td>\n",
       "      <td>NaN</td>\n",
       "      <td>NaT</td>\n",
       "      <td>NaN</td>\n",
       "      <td>NaN</td>\n",
       "      <td>SUBMITTED</td>\n",
       "      <td>NaN</td>\n",
       "      <td>5fc961c3b8cfca11a077dd33</td>\n",
       "    </tr>\n",
       "  </tbody>\n",
       "</table>\n",
       "<p>1119 rows × 15 columns</p>\n",
       "</div>"
      ],
      "text/plain": [
       "                           _id  bonusPointsEarned  \\\n",
       "0     5ff1e1eb0a720f0523000575              500.0   \n",
       "1     5ff1e1bb0a720f052300056b              150.0   \n",
       "2     5ff1e1f10a720f052300057a                5.0   \n",
       "3     5ff1e1ee0a7214ada100056f                5.0   \n",
       "4     5ff1e1d20a7214ada1000561                5.0   \n",
       "...                        ...                ...   \n",
       "1114  603cc0630a720fde100003e6               25.0   \n",
       "1115  603d0b710a720fde1000042a                NaN   \n",
       "1116  603cf5290a720fde10000413                NaN   \n",
       "1117  603ce7100a7217c72c000405               25.0   \n",
       "1118  603c4fea0a7217c72c000389                NaN   \n",
       "\n",
       "                                bonusPointsEarnedReason  \\\n",
       "0     Receipt number 2 completed, bonus point schedu...   \n",
       "1     Receipt number 5 completed, bonus point schedu...   \n",
       "2                            All-receipts receipt bonus   \n",
       "3                            All-receipts receipt bonus   \n",
       "4                            All-receipts receipt bonus   \n",
       "...                                                 ...   \n",
       "1114                        COMPLETE_NONPARTNER_RECEIPT   \n",
       "1115                                                NaN   \n",
       "1116                                                NaN   \n",
       "1117                        COMPLETE_NONPARTNER_RECEIPT   \n",
       "1118                                                NaN   \n",
       "\n",
       "                  createDate             dateScanned        finishedDate  \\\n",
       "0    2021-01-03 10:25:31.000 2021-01-03 10:25:31.000 2021-01-03 10:25:31   \n",
       "1    2021-01-03 10:24:43.000 2021-01-03 10:24:43.000 2021-01-03 10:24:43   \n",
       "2    2021-01-03 10:25:37.000 2021-01-03 10:25:37.000                 NaT   \n",
       "3    2021-01-03 10:25:34.000 2021-01-03 10:25:34.000 2021-01-03 10:25:34   \n",
       "4    2021-01-03 10:25:06.000 2021-01-03 10:25:06.000 2021-01-03 10:25:11   \n",
       "...                      ...                     ...                 ...   \n",
       "1114 2021-03-01 05:22:27.000 2021-03-01 05:22:27.000                 NaT   \n",
       "1115 2021-03-01 10:42:41.873 2021-03-01 10:42:41.873                 NaT   \n",
       "1116 2021-03-01 09:07:37.664 2021-03-01 09:07:37.664                 NaT   \n",
       "1117 2021-03-01 08:07:28.000 2021-03-01 08:07:28.000                 NaT   \n",
       "1118 2021-02-28 21:22:34.962 2021-02-28 21:22:34.962                 NaT   \n",
       "\n",
       "                  modifyDate   pointsAwardedDate pointsEarned  \\\n",
       "0    2021-01-03 10:25:36.000 2021-01-03 10:25:31        500.0   \n",
       "1    2021-01-03 10:24:48.000 2021-01-03 10:24:43        150.0   \n",
       "2    2021-01-03 10:25:42.000                 NaT            5   \n",
       "3    2021-01-03 10:25:39.000 2021-01-03 10:25:34          5.0   \n",
       "4    2021-01-03 10:25:11.000 2021-01-03 10:25:06          5.0   \n",
       "...                      ...                 ...          ...   \n",
       "1114 2021-03-01 05:22:28.000                 NaT         25.0   \n",
       "1115 2021-03-01 10:42:41.873                 NaT          NaN   \n",
       "1116 2021-03-01 09:07:37.664                 NaT          NaN   \n",
       "1117 2021-03-01 08:07:29.000                 NaT         25.0   \n",
       "1118 2021-02-28 21:22:34.962                 NaT          NaN   \n",
       "\n",
       "            purchaseDate  purchasedItemCount  \\\n",
       "0    2021-01-02 19:00:00                 5.0   \n",
       "1    2021-01-02 10:24:43                 2.0   \n",
       "2    2021-01-02 19:00:00                 1.0   \n",
       "3    2021-01-02 19:00:00                 4.0   \n",
       "4    2021-01-02 10:25:06                 2.0   \n",
       "...                  ...                 ...   \n",
       "1114 2020-08-16 20:00:00                 2.0   \n",
       "1115                 NaT                 NaN   \n",
       "1116                 NaT                 NaN   \n",
       "1117 2020-08-16 20:00:00                 2.0   \n",
       "1118                 NaT                 NaN   \n",
       "\n",
       "                                 rewardsReceiptItemList rewardsReceiptStatus  \\\n",
       "0     [{'barcode': '4011', 'description': 'ITEM NOT ...             FINISHED   \n",
       "1     [{'barcode': '4011', 'description': 'ITEM NOT ...             FINISHED   \n",
       "2     [{'needsFetchReview': False, 'partnerItemId': ...             REJECTED   \n",
       "3     [{'barcode': '4011', 'description': 'ITEM NOT ...             FINISHED   \n",
       "4     [{'barcode': '4011', 'description': 'ITEM NOT ...             FINISHED   \n",
       "...                                                 ...                  ...   \n",
       "1114  [{'barcode': 'B076FJ92M4', 'description': 'mue...             REJECTED   \n",
       "1115                                                NaN            SUBMITTED   \n",
       "1116                                                NaN            SUBMITTED   \n",
       "1117  [{'barcode': 'B076FJ92M4', 'description': 'mue...             REJECTED   \n",
       "1118                                                NaN            SUBMITTED   \n",
       "\n",
       "     totalSpent                    userId  \n",
       "0         26.00  5ff1e1eacfcf6c399c274ae6  \n",
       "1         11.00  5ff1e194b6a9d73a3a9f1052  \n",
       "2         10.00  5ff1e1f1cfcf6c399c274b0b  \n",
       "3         28.00  5ff1e1eacfcf6c399c274ae6  \n",
       "4          1.00  5ff1e194b6a9d73a3a9f1052  \n",
       "...         ...                       ...  \n",
       "1114      34.96  5fc961c3b8cfca11a077dd33  \n",
       "1115        NaN  5fc961c3b8cfca11a077dd33  \n",
       "1116        NaN  5fc961c3b8cfca11a077dd33  \n",
       "1117      34.96  5fc961c3b8cfca11a077dd33  \n",
       "1118        NaN  5fc961c3b8cfca11a077dd33  \n",
       "\n",
       "[1119 rows x 15 columns]"
      ]
     },
     "execution_count": 2,
     "metadata": {},
     "output_type": "execute_result"
    }
   ],
   "source": [
    "#create dataframe\n",
    "df = pd.DataFrame(receipts)\n",
    "\n",
    "# Convert the `_id` column to a normal string format\n",
    "df[\"_id\"] = df[\"_id\"].apply(lambda x: x[\"$oid\"])\n",
    "# Convert the `createDate` column to a normal date format\n",
    "df[\"createDate\"] = df[\"createDate\"].apply(lambda x: datetime.fromtimestamp(x[\"$date\"] / 1000))\n",
    "# Convert the `dateScanned` column to a normal date format\n",
    "df[\"dateScanned\"] = df[\"dateScanned\"].apply(lambda x: datetime.fromtimestamp(x[\"$date\"] / 1000))\n",
    "# Convert the `finishedDate` column to a normal date format\n",
    "df[\"finishedDate\"] = df[\"finishedDate\"].apply(lambda x: datetime.fromtimestamp(x[\"$date\"] / 1000) if isinstance(x, dict) else pd.NaT)\n",
    "# Convert the `modifyDate` column to a normal date format\n",
    "df[\"modifyDate\"] = df[\"modifyDate\"].apply(lambda x: datetime.fromtimestamp(x[\"$date\"] / 1000))\n",
    "# Convert the `purchaseDate` column to a normal date format\n",
    "df[\"purchaseDate\"] = df[\"purchaseDate\"].apply(lambda x: datetime.fromtimestamp(x[\"$date\"] / 1000) if isinstance(x, dict) else pd.NaT)\n",
    "# Convert the `pointsAwardedDate` column to a normal date format\n",
    "df[\"pointsAwardedDate\"] = df[\"pointsAwardedDate\"].apply(lambda x: datetime.fromtimestamp(x[\"$date\"] / 1000) if isinstance(x, dict) else pd.NaT)\n",
    "\n",
    "# Print the modified DataFrame\n",
    "df\n",
    "\n",
    "# for the df, the rewardsreceiptsitemlist should be seperated if needed lator."
   ]
  },
  {
   "cell_type": "markdown",
   "metadata": {},
   "source": [
    "### Evaluate the data quality"
   ]
  },
  {
   "cell_type": "markdown",
   "metadata": {},
   "source": [
    "#### check the data types and basic info of columns"
   ]
  },
  {
   "cell_type": "code",
   "execution_count": 3,
   "metadata": {
    "scrolled": true
   },
   "outputs": [
    {
     "name": "stdout",
     "output_type": "stream",
     "text": [
      "<class 'pandas.core.frame.DataFrame'>\n",
      "RangeIndex: 1119 entries, 0 to 1118\n",
      "Data columns (total 15 columns):\n",
      " #   Column                   Non-Null Count  Dtype         \n",
      "---  ------                   --------------  -----         \n",
      " 0   _id                      1119 non-null   object        \n",
      " 1   bonusPointsEarned        544 non-null    float64       \n",
      " 2   bonusPointsEarnedReason  544 non-null    object        \n",
      " 3   createDate               1119 non-null   datetime64[ns]\n",
      " 4   dateScanned              1119 non-null   datetime64[ns]\n",
      " 5   finishedDate             568 non-null    datetime64[ns]\n",
      " 6   modifyDate               1119 non-null   datetime64[ns]\n",
      " 7   pointsAwardedDate        537 non-null    datetime64[ns]\n",
      " 8   pointsEarned             609 non-null    object        \n",
      " 9   purchaseDate             671 non-null    datetime64[ns]\n",
      " 10  purchasedItemCount       635 non-null    float64       \n",
      " 11  rewardsReceiptItemList   679 non-null    object        \n",
      " 12  rewardsReceiptStatus     1119 non-null   object        \n",
      " 13  totalSpent               684 non-null    object        \n",
      " 14  userId                   1119 non-null   object        \n",
      "dtypes: datetime64[ns](6), float64(2), object(7)\n",
      "memory usage: 131.3+ KB\n"
     ]
    }
   ],
   "source": [
    "# Validate data types and formats, \n",
    "# check the data types and basic info of columns\n",
    "df.info()"
   ]
  },
  {
   "cell_type": "markdown",
   "metadata": {},
   "source": [
    "#### Check for missing values"
   ]
  },
  {
   "cell_type": "code",
   "execution_count": 5,
   "metadata": {
    "scrolled": true
   },
   "outputs": [
    {
     "name": "stdout",
     "output_type": "stream",
     "text": [
      "Missing values: _id                          0\n",
      "bonusPointsEarned          575\n",
      "bonusPointsEarnedReason    575\n",
      "createDate                   0\n",
      "dateScanned                  0\n",
      "finishedDate               551\n",
      "modifyDate                   0\n",
      "pointsAwardedDate          582\n",
      "pointsEarned               510\n",
      "purchaseDate               448\n",
      "purchasedItemCount         484\n",
      "rewardsReceiptItemList     440\n",
      "rewardsReceiptStatus         0\n",
      "totalSpent                 435\n",
      "userId                       0\n",
      "dtype: int64\n"
     ]
    }
   ],
   "source": [
    "missing_values = df.isnull().sum()\n",
    "print(\"Missing values:\", missing_values)\n",
    "# there are lots of missing values in columns"
   ]
  },
  {
   "cell_type": "markdown",
   "metadata": {},
   "source": [
    "#### Check for duplicates"
   ]
  },
  {
   "cell_type": "code",
   "execution_count": 21,
   "metadata": {},
   "outputs": [
    {
     "name": "stdout",
     "output_type": "stream",
     "text": [
      "[]\n"
     ]
    }
   ],
   "source": [
    "#try duplicates = receipts[receipts.duplicated(subset='_id', keep=False)] does not work\n",
    "duplicates = [item for item in receipts if receipts.count(item) > 1]\n",
    "print(duplicates)\n",
    "# [] means no duplicates"
   ]
  },
  {
   "cell_type": "markdown",
   "metadata": {},
   "source": [
    "### Summary Statistics and Numeric Variables"
   ]
  },
  {
   "cell_type": "markdown",
   "metadata": {},
   "source": [
    "#### Distribution and find outliers"
   ]
  },
  {
   "cell_type": "code",
   "execution_count": 27,
   "metadata": {},
   "outputs": [
    {
     "name": "stdout",
     "output_type": "stream",
     "text": [
      "count     1119\n",
      "unique      95\n",
      "top        nan\n",
      "freq       435\n",
      "Name: totalSpent, dtype: object\n"
     ]
    },
    {
     "data": {
      "image/png": "[encoded data removed]",
      "text/plain": [
       "<Figure size 432x288 with 1 Axes>"
      ]
     },
     "metadata": {
      "needs_background": "light"
     },
     "output_type": "display_data"
    }
   ],
   "source": [
    "import matplotlib.pyplot as plt\n",
    "# Convert 'totalSpent' column to string\n",
    "df['totalSpent'] = df['totalSpent'].astype(str)\n",
    "\n",
    "# Check summary statistics\n",
    "print(df['totalSpent'].describe())\n",
    "\n",
    "# Plot a histogram\n",
    "plt.hist(df['totalSpent'], bins=10)\n",
    "plt.xlabel('Total Spent')\n",
    "plt.ylabel('Frequency')\n",
    "plt.title('Distribution of Total Spent')\n",
    "plt.show()\n",
    "\n",
    "# the histogram shows there are outliers since is a right-screwed plot."
   ]
  },
  {
   "cell_type": "markdown",
   "metadata": {},
   "source": [
    "### consistency of categorical variables"
   ]
  },
  {
   "cell_type": "code",
   "execution_count": 29,
   "metadata": {
    "scrolled": true
   },
   "outputs": [
    {
     "name": "stdout",
     "output_type": "stream",
     "text": [
      "['FINISHED' 'REJECTED' 'FLAGGED' 'SUBMITTED' 'PENDING']\n"
     ]
    }
   ],
   "source": [
    "# use categorical columns rewardsReceiptStatus \n",
    "# Check unique values:\n",
    "unique_values = df['rewardsReceiptStatus'].unique()\n",
    "print(unique_values)"
   ]
  },
  {
   "cell_type": "code",
   "execution_count": 30,
   "metadata": {},
   "outputs": [
    {
     "name": "stdout",
     "output_type": "stream",
     "text": [
      "FINISHED     518\n",
      "SUBMITTED    434\n",
      "REJECTED      71\n",
      "PENDING       50\n",
      "FLAGGED       46\n",
      "Name: rewardsReceiptStatus, dtype: int64\n"
     ]
    }
   ],
   "source": [
    "# get the count of each unique value in the categorical variable\n",
    "value_counts = df['rewardsReceiptStatus'].value_counts()\n",
    "print(value_counts)"
   ]
  },
  {
   "cell_type": "code",
   "execution_count": 31,
   "metadata": {
    "scrolled": true
   },
   "outputs": [
    {
     "name": "stdout",
     "output_type": "stream",
     "text": [
      "Empty DataFrame\n",
      "Columns: [_id, bonusPointsEarned, bonusPointsEarnedReason, createDate, dateScanned, finishedDate, modifyDate, pointsAwardedDate, pointsEarned, purchaseDate, purchasedItemCount, rewardsReceiptItemList, rewardsReceiptStatus, totalSpent, userId]\n",
      "Index: []\n"
     ]
    }
   ],
   "source": [
    "# Data validation rules\n",
    "valid_categories = ['FINISHED', 'SUBMITTED', 'REJECTED','PENDING', 'FLAGGED']\n",
    "inconsistent_values = df[~df['rewardsReceiptStatus'].isin(valid_categories)]\n",
    "print(inconsistent_values)\n",
    "#  there are no values in the original DataFrame that are not present in the valid_categories list"
   ]
  }
 ],
 "metadata": {
  "kernelspec": {
   "display_name": "Python 3",
   "language": "python",
   "name": "python3"
  },
  "language_info": {
   "codemirror_mode": {
    "name": "ipython",
    "version": 3
   },
   "file_extension": ".py",
   "mimetype": "text/x-python",
   "name": "python",
   "nbconvert_exporter": "python",
   "pygments_lexer": "ipython3",
   "version": "3.8.8"
  }
 },
 "nbformat": 4,
 "nbformat_minor": 2
}
